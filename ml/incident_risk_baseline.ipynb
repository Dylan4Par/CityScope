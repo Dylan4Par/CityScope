{
  "cells": [
    {
      "cell_type": "markdown",
      "metadata": {},
      "source": [
        "# CityScope \u2014 Incident Risk Baseline (Synthetic, Denver)\n",
        "\n",
        "This notebook creates a synthetic geospatial dataset around Denver, engineers simple features (weather, events, temporal), and trains a baseline classifier to predict incident risk per tile/time slice.\n",
        "\n",
        "**Purpose:** portfolio demo without exposing proprietary data or logic."
      ]
    },
    {
      "cell_type": "code",
      "execution_count": null,
      "metadata": {},
      "outputs": [],
      "source": [
        "import numpy as np, pandas as pd\n",
        "from sklearn.model_selection import train_test_split\n",
        "from sklearn.ensemble import GradientBoostingClassifier\n",
        "from sklearn.metrics import roc_auc_score, average_precision_score\n",
        "import matplotlib.pyplot as plt\n",
        "np.random.seed(42)\n",
        "\n",
        "# Synthetic tiles near Denver\n",
        "N = 5000\n",
        "lat = np.random.uniform(39.55, 39.88, N)\n",
        "lon = np.random.uniform(-105.15, -104.60, N)\n",
        "\n",
        "# Features \u2014 synthetic proxies\n",
        "hour = np.random.randint(0,24,N)\n",
        "dow = np.random.randint(0,7,N)\n",
        "is_rush = ((hour>=6)&(hour<=9)) | ((hour>=15)&(hour<=18))\n",
        "temp_c = np.random.normal(12, 10, N)\n",
        "precip_mm = np.clip(np.random.exponential(1.0, N)-0.5, 0, None)\n",
        "wind = np.random.gamma(2, 3, N)\n",
        "event_density = np.random.poisson(0.3, N)\n",
        "near_stadium = (np.abs(lat-39.7439)+np.abs(lon+105.0201)<0.07).astype(int)\n",
        "\n",
        "# Label \u2014 risk probability combining factors + noise\n",
        "base = 0.05 + 0.15*is_rush + 0.1*(event_density>0) + 0.08*near_stadium + 0.05*(precip_mm>1.0)\n",
        "prob = 1/(1+np.exp(-( (base-0.2)*6 )))\n",
        "y = (np.random.rand(N) < prob).astype(int)\n",
        "\n",
        "X = pd.DataFrame({\n",
        "    'hour':hour,'dow':dow,'is_rush':is_rush.astype(int),'temp_c':temp_c,'precip_mm':precip_mm,\n",
        "    'wind':wind,'event_density':event_density,'near_stadium':near_stadium,\n",
        "    'lat':lat,'lon':lon\n",
        "})\n",
        "X_train, X_test, y_train, y_test = train_test_split(X, y, test_size=0.25, stratify=y, random_state=42)\n",
        "\n",
        "clf = GradientBoostingClassifier(random_state=42)\n",
        "clf.fit(X_train, y_train)\n",
        "p = clf.predict_proba(X_test)[:,1]\n",
        "auc = roc_auc_score(y_test, p)\n",
        "ap = average_precision_score(y_test, p)\n",
        "auc, ap"
      ]
    },
    {
      "cell_type": "code",
      "execution_count": null,
      "metadata": {},
      "outputs": [],
      "source": [
        "# Plot a heat-like scatter of top-risk points\n",
        "scores = clf.predict_proba(X)[:,1]\n",
        "df = X.copy(); df['score']=scores\n",
        "top = df.nlargest(300, 'score')\n",
        "plt.figure(figsize=(6,6))\n",
        "plt.scatter(df['lon'], df['lat'], s=4, alpha=0.05)\n",
        "plt.scatter(top['lon'], top['lat'], s=10, alpha=0.6)\n",
        "plt.title('Synthetic Risk Hotspots \u2014 Denver Bounding Box')\n",
        "plt.xlabel('Longitude'); plt.ylabel('Latitude')\n",
        "plt.grid(True, alpha=0.2)\n",
        "plt.tight_layout()\n",
        "out = '../architecture/synthetic_hotspots.png'\n",
        "plt.savefig(out, dpi=160)\n",
        "out"
      ]
    }
  ],
  "metadata": {
    "kernelspec": {
      "display_name": "Python 3",
      "language": "python",
      "name": "python3"
    },
    "language_info": {
      "name": "python",
      "version": "3.10"
    }
  },
  "nbformat": 4,
  "nbformat_minor": 5
}